{
 "cells": [
  {
   "cell_type": "markdown",
   "metadata": {},
   "source": [
    "# Header\n",
    "\n",
    "ใน workbook นี้จะเป็น experimental code ก่อนที่จะไป deploy UI บน huggingface ครับ โดยจะประกอบไปด้วย 4 ส่วนหลักๆคือ\n",
    "\n",
    "**1.** Encoding\n",
    "\n",
    "**2.** Upload ข้อมูลขึ้น Qdrant database\n",
    "\n",
    "**3.** RAG & Prompt Engineering\n",
    "\n",
    "**4.** RAG + Text generation model"
   ]
  },
  {
   "cell_type": "markdown",
   "metadata": {},
   "source": [
    "## 1. Encoding\n",
    "\n",
    "ในส่วนนี้จะดึงข้อมูลจากไฟล์ CSV ที่ได้มากจาก web scraping นำข้อมูลมา encode โดย sentence transformer model"
   ]
  },
  {
   "cell_type": "markdown",
   "metadata": {},
   "source": [
    "### Import Env Variable"
   ]
  },
  {
   "cell_type": "code",
   "execution_count": 134,
   "metadata": {},
   "outputs": [],
   "source": [
    "import os\n",
    "from dotenv import load_dotenv"
   ]
  },
  {
   "cell_type": "code",
   "execution_count": 135,
   "metadata": {},
   "outputs": [],
   "source": [
    "# Load environment variables from the .env file\n",
    "load_dotenv()\n",
    "\n",
    "# Access API\n",
    "LANGCHAIN_API_KEY = os.getenv(\"LANGCHAIN_TOKEN\")\n",
    "QROQ_API_KEY = os.getenv(\"QROQ_TOKEN\")\n",
    "\n",
    "#Langsmith\n",
    "os.environ[\"LANGCHAIN_TRACING_V2\"] = \"true\"\n",
    "os.environ[\"LANGCHAIN_API_KEY\"] = LANGCHAIN_API_KEY\n",
    "os.environ[\"GROQ_API_KEY\"] = QROQ_API_KEY\n",
    "\n",
    "QDRANT_CLOUD_URL = os.getenv(\"QDRANT_URL\")\n",
    "QDRANT_API_KEY = os.getenv(\"QDRANT_TOKEN\")\n",
    "\n",
    "OPENAI_API_KEY = os.getenv(\"OPENAI_TOKEN\")"
   ]
  },
  {
   "cell_type": "markdown",
   "metadata": {},
   "source": [
    "### Encoding\n",
    "\n",
    "ในส่วนนี้จะทำการ encode ทั้งคำถามและคำตอบจากกระทู้ โดยใช้ model **paraphrase-multilingual-mpnet-base-v2** ซึ่งเป็น model ที่รองรับภาษาไทย การ encode จะทำการ encode ทั้งคำถามและคำตอบแยกกัน เพื่อเอาไว้ใช้งานในวิธี **Two-Stage Retrieval** ซึ่งจะอธิบายต่อไป"
   ]
  },
  {
   "cell_type": "code",
   "execution_count": 127,
   "metadata": {},
   "outputs": [],
   "source": [
    "import pandas as pd\n",
    "import numpy as np\n",
    "from sentence_transformers import SentenceTransformer\n",
    "from tqdm import tqdm"
   ]
  },
  {
   "cell_type": "code",
   "execution_count": 128,
   "metadata": {},
   "outputs": [],
   "source": [
    "# Load your data\n",
    "file_path = \"Agnos_Healthcare.csv\"\n",
    "data = pd.read_csv(file_path)\n",
    "\n",
    "# Initialize the sentence transformer model\n",
    "embedding_model = SentenceTransformer('paraphrase-multilingual-mpnet-base-v2')\n",
    "\n",
    "# Generate embeddings for the questions\n",
    "data['Question_embedding'] = data['Question'].apply(lambda x: embedding_model.encode(x).tolist())\n",
    "\n",
    "# Generate embeddings for the answers\n",
    "data['Answer_embedding'] = data['Answer'].apply(lambda x: embedding_model.encode(x).tolist())\n"
   ]
  },
  {
   "cell_type": "code",
   "execution_count": 129,
   "metadata": {},
   "outputs": [
    {
     "data": {
      "text/html": [
       "<div>\n",
       "<style scoped>\n",
       "    .dataframe tbody tr th:only-of-type {\n",
       "        vertical-align: middle;\n",
       "    }\n",
       "\n",
       "    .dataframe tbody tr th {\n",
       "        vertical-align: top;\n",
       "    }\n",
       "\n",
       "    .dataframe thead th {\n",
       "        text-align: right;\n",
       "    }\n",
       "</style>\n",
       "<table border=\"1\" class=\"dataframe\">\n",
       "  <thead>\n",
       "    <tr style=\"text-align: right;\">\n",
       "      <th></th>\n",
       "      <th>url</th>\n",
       "      <th>Question</th>\n",
       "      <th>Answer</th>\n",
       "      <th>Question_embedding</th>\n",
       "      <th>Answer_embedding</th>\n",
       "    </tr>\n",
       "  </thead>\n",
       "  <tbody>\n",
       "    <tr>\n",
       "      <th>0</th>\n",
       "      <td>https://www.agnoshealth.com/forums/%E0%B8%A5%E...</td>\n",
       "      <td>ไปพบแพทย์ ฉีดยาแล้ว ก็พอทุเลาลงไปบ้าง แต่พออีก...</td>\n",
       "      <td>ยาที่กล่าวมาค่อนข้างตรงกับอาการที่เป็นอยู่แล้ว...</td>\n",
       "      <td>[0.03410579264163971, -0.04926569387316704, -0...</td>\n",
       "      <td>[0.031183620914816856, -0.04248825088143349, -...</td>\n",
       "    </tr>\n",
       "    <tr>\n",
       "      <th>1</th>\n",
       "      <td>https://www.agnoshealth.com/forums/%E0%B8%A0%E...</td>\n",
       "      <td>สวัสดีค่ะ อยากทราบว่าอาการคิดมาก อยากร้องไห้ตล...</td>\n",
       "      <td>สวัสดีครับ การที่อยากคิดมาก ร้องไห้ตลอด อยากอย...</td>\n",
       "      <td>[-0.019984273239970207, 0.10949759185314178, -...</td>\n",
       "      <td>[-0.04914068058133125, -0.005477641709148884, ...</td>\n",
       "    </tr>\n",
       "    <tr>\n",
       "      <th>2</th>\n",
       "      <td>https://www.agnoshealth.com/forums/%E0%B9%84%E...</td>\n",
       "      <td>ผายลมทั้งวัน เกิดจากสาเหตุอะไรคะ แล้วผิดปกติรึ...</td>\n",
       "      <td>แปลว่ามีลมในทางเดินอาหารเยอะ สาเหตุได้หลายอย่า...</td>\n",
       "      <td>[-0.05385837331414223, -0.058753013610839844, ...</td>\n",
       "      <td>[0.03273347392678261, -0.049386586993932724, -...</td>\n",
       "    </tr>\n",
       "    <tr>\n",
       "      <th>3</th>\n",
       "      <td>https://www.agnoshealth.com/forums/%E0%B8%81%E...</td>\n",
       "      <td>สวัสดีครับ ผมเหมือนจะเป็นกระเพาะปัสสาวะอักเสบน...</td>\n",
       "      <td>สวัสดีครับ จากอาการที่แจ้ง คือปัสสาวะบ่อย กะปร...</td>\n",
       "      <td>[0.08119186013936996, 0.023244842886924744, -0...</td>\n",
       "      <td>[0.050747279077768326, -0.010291456244885921, ...</td>\n",
       "    </tr>\n",
       "    <tr>\n",
       "      <th>4</th>\n",
       "      <td>https://www.agnoshealth.com/forums/%E0%B8%A0%E...</td>\n",
       "      <td>ตกขาวปนเลือดหลังจากประจำเดือนหมด</td>\n",
       "      <td>จากประวัติคนไข้ อาการตกขาวผิดปกติร่วมกับอาการค...</td>\n",
       "      <td>[0.040805839002132416, -0.04118615388870239, -...</td>\n",
       "      <td>[0.032024502754211426, 0.009404908865690231, -...</td>\n",
       "    </tr>\n",
       "  </tbody>\n",
       "</table>\n",
       "</div>"
      ],
      "text/plain": [
       "                                                 url  \\\n",
       "0  https://www.agnoshealth.com/forums/%E0%B8%A5%E...   \n",
       "1  https://www.agnoshealth.com/forums/%E0%B8%A0%E...   \n",
       "2  https://www.agnoshealth.com/forums/%E0%B9%84%E...   \n",
       "3  https://www.agnoshealth.com/forums/%E0%B8%81%E...   \n",
       "4  https://www.agnoshealth.com/forums/%E0%B8%A0%E...   \n",
       "\n",
       "                                            Question  \\\n",
       "0  ไปพบแพทย์ ฉีดยาแล้ว ก็พอทุเลาลงไปบ้าง แต่พออีก...   \n",
       "1  สวัสดีค่ะ อยากทราบว่าอาการคิดมาก อยากร้องไห้ตล...   \n",
       "2  ผายลมทั้งวัน เกิดจากสาเหตุอะไรคะ แล้วผิดปกติรึ...   \n",
       "3  สวัสดีครับ ผมเหมือนจะเป็นกระเพาะปัสสาวะอักเสบน...   \n",
       "4                   ตกขาวปนเลือดหลังจากประจำเดือนหมด   \n",
       "\n",
       "                                              Answer  \\\n",
       "0  ยาที่กล่าวมาค่อนข้างตรงกับอาการที่เป็นอยู่แล้ว...   \n",
       "1  สวัสดีครับ การที่อยากคิดมาก ร้องไห้ตลอด อยากอย...   \n",
       "2  แปลว่ามีลมในทางเดินอาหารเยอะ สาเหตุได้หลายอย่า...   \n",
       "3  สวัสดีครับ จากอาการที่แจ้ง คือปัสสาวะบ่อย กะปร...   \n",
       "4  จากประวัติคนไข้ อาการตกขาวผิดปกติร่วมกับอาการค...   \n",
       "\n",
       "                                  Question_embedding  \\\n",
       "0  [0.03410579264163971, -0.04926569387316704, -0...   \n",
       "1  [-0.019984273239970207, 0.10949759185314178, -...   \n",
       "2  [-0.05385837331414223, -0.058753013610839844, ...   \n",
       "3  [0.08119186013936996, 0.023244842886924744, -0...   \n",
       "4  [0.040805839002132416, -0.04118615388870239, -...   \n",
       "\n",
       "                                    Answer_embedding  \n",
       "0  [0.031183620914816856, -0.04248825088143349, -...  \n",
       "1  [-0.04914068058133125, -0.005477641709148884, ...  \n",
       "2  [0.03273347392678261, -0.049386586993932724, -...  \n",
       "3  [0.050747279077768326, -0.010291456244885921, ...  \n",
       "4  [0.032024502754211426, 0.009404908865690231, -...  "
      ]
     },
     "execution_count": 129,
     "metadata": {},
     "output_type": "execute_result"
    }
   ],
   "source": [
    "data.head()"
   ]
  },
  {
   "cell_type": "markdown",
   "metadata": {},
   "source": [
    "## 2. Upload to Qdrant database\n",
    "\n",
    "จะทำการ upload ข้อมูลขึ้นไปบน Qdrant database โดยข้อมูลแต่ละ Payload จะประกอบด้วย \n",
    "```sh\n",
    "{\n",
    "    payload :   {\n",
    "                    question : \"ไปพบแพทย์ ฉีดยาแล้ว ก็พอทุเลาลงไปบ้าง\", #คำถามจากกระทู้\n",
    "                    answer : \"ยาที่กล่าวมาค่อนข้างตรงกับอาการที่เป็นอยู่\", #คำตอบจากคุณหมอ\n",
    "                    type : \"question\" #ประเภทการ encode (question หมายถึงใช้คำถามไป encode, answer หมายถึงใช้คำตอบไป encode)\n",
    "                }\n",
    "\n",
    "    vector : [1,2,3,4,...]\n",
    "}\n",
    "\n",
    "```"
   ]
  },
  {
   "cell_type": "markdown",
   "metadata": {},
   "source": [
    "### Create collection"
   ]
  },
  {
   "cell_type": "code",
   "execution_count": 75,
   "metadata": {},
   "outputs": [],
   "source": [
    "from qdrant_client import QdrantClient\n",
    "from qdrant_client.http.models import Distance, VectorParams\n",
    "from qdrant_client.http.models import PointStruct"
   ]
  },
  {
   "cell_type": "code",
   "execution_count": 76,
   "metadata": {},
   "outputs": [
    {
     "data": {
      "text/plain": [
       "True"
      ]
     },
     "execution_count": 76,
     "metadata": {},
     "output_type": "execute_result"
    }
   ],
   "source": [
    "# Initialize Qdrant client with your cloud credentials\n",
    "qdrant_client = QdrantClient(\n",
    "    url=QDRANT_CLOUD_URL,  \n",
    "    api_key=QDRANT_API_KEY           \n",
    ")\n",
    "\n",
    "# Define the collection name\n",
    "collection_name = \"Agnos_collection\"\n",
    "\n",
    "# Create a collection in Qdrant\n",
    "qdrant_client.create_collection(\n",
    "    collection_name=collection_name,\n",
    "    vectors_config=VectorParams(size=data['Question_embedding'][0].__len__(), distance=Distance.COSINE)\n",
    ")\n"
   ]
  },
  {
   "cell_type": "markdown",
   "metadata": {},
   "source": [
    "### Create Payload & Upload Data"
   ]
  },
  {
   "cell_type": "code",
   "execution_count": 77,
   "metadata": {},
   "outputs": [
    {
     "name": "stderr",
     "output_type": "stream",
     "text": [
      "Uploading batches: 100%|██████████| 113/113 [01:26<00:00,  1.30it/s]\n"
     ]
    }
   ],
   "source": [
    "# Prepare payloads\n",
    "payloads = [\n",
    "    PointStruct(\n",
    "        id=i, \n",
    "        vector=question_embedding,  # First embedding (Question)\n",
    "        payload={\"question\": question, \"answer\": answer, \"type\": \"question\"}\n",
    "    )\n",
    "    for i, (question, answer, question_embedding) in enumerate(zip(data['Question'], data['Answer'], data['Question_embedding']))\n",
    "] + [\n",
    "    PointStruct(\n",
    "        id=len(data['Question']) + i, \n",
    "        vector=answer_embedding,  # Second embedding (Answer)\n",
    "        payload={\"question\": question, \"answer\": answer, \"type\": \"answer\"}\n",
    "    )\n",
    "    for i, (question, answer, answer_embedding) in enumerate(zip(data['Question'], data['Answer'], data['Answer_embedding']))\n",
    "]\n",
    "\n",
    "# Upload to Qdrant\n",
    "batch_size = 10\n",
    "\n",
    "for i in tqdm(range(0, len(payloads), batch_size), desc=\"Uploading batches\"):\n",
    "    batch = payloads[i:i + batch_size]\n",
    "    qdrant_client.upsert(collection_name=collection_name, points=batch)\n"
   ]
  },
  {
   "cell_type": "markdown",
   "metadata": {},
   "source": [
    "## 3. RAG & Prompt Engineering"
   ]
  },
  {
   "cell_type": "markdown",
   "metadata": {},
   "source": [
    "### RAG\n",
    "\n",
    "จะใช้ RAG แบบ 2 stage retrieval คือ \n",
    "\n",
    "**1.** เมื่อมี query ใหม่เข้ามาจากผู้ใช้งาน จะหาข้อมูลจาก **คำถาม** ที่เกี่ยวข้อมากที่สุดก่อน ว่าคำถามนี้เคยถูกถามมาหรือไม่ \n",
    "\n",
    "**2.** จะคิดค่า similarity ซึ่งเปรียบเสมือนค่าความมั่นใจในการตัดสินใจว่า query ใหม่กับคำถามที่เคยถูกถามในกระทู้ มีความเหมือนกันมากน้อยเพียงใด \n",
    "\n",
    "**3.** ถ้าค่า similarity >= 75% จะดึงข้อมูล **คำตอบ** จากหมอมาใช้งานต่อไป\n",
    "\n",
    "**4.** ถ้าค่า similarity < 75% จะหาข้อมูลจาก **คำตอบ** ที่เกี่ยวข้อมากที่สุดก่อน ว่าคำถามนี้เคยถูกตอบมาหรือไม่\n",
    "\n",
    "**5.** นำผลลัพท์เอกสารที่เกี่ยวข้องที่ได้ทั้งหมด ไปทำการ **rerank** โดยใช้ BM25\n",
    "เพื่อหาค่าความคล้ายคลึงอีกครั้งและเรียงลำดับก่อนที่จะป้อนให้กับ text generation model ต่อไป"
   ]
  },
  {
   "cell_type": "code",
   "execution_count": 117,
   "metadata": {},
   "outputs": [],
   "source": [
    "from langchain_qdrant import QdrantVectorStore\n",
    "from langchain_huggingface import HuggingFaceEmbeddings\n",
    "from qdrant_client.http.models import FieldCondition, Filter, MatchValue, models\n",
    "from rank_bm25 import BM25Okapi\n",
    "import warnings\n",
    "warnings.filterwarnings(\"ignore\", category=DeprecationWarning)"
   ]
  },
  {
   "cell_type": "code",
   "execution_count": 112,
   "metadata": {},
   "outputs": [],
   "source": [
    "# Use the same embedding model\n",
    "embeddings = HuggingFaceEmbeddings(model_name='sentence-transformers/paraphrase-multilingual-mpnet-base-v2')\n",
    "\n",
    "# Connect LangChain to the Qdrant collection\n",
    "vectorstore = QdrantVectorStore(\n",
    "    client=qdrant_client,\n",
    "    collection_name=collection_name,\n",
    "    embedding=embeddings,\n",
    "    content_payload_key=\"answer\"\n",
    ")\n"
   ]
  },
  {
   "cell_type": "code",
   "execution_count": 131,
   "metadata": {},
   "outputs": [],
   "source": [
    "def retrieve_context(query, k=3, threshold=0.75):\n",
    "    \"\"\"Retrieve the most relevant answer using two-stage search.\"\"\"\n",
    "    \n",
    "    query_vector = embeddings.embed_query(query)  # Embed the user query\n",
    "    \n",
    "    # Step 1: Search for similar QUESTIONS only\n",
    "    question_filter = Filter(\n",
    "        must=[\n",
    "            FieldCondition(\n",
    "                key=\"type\",\n",
    "                match=MatchValue(value=\"question\")\n",
    "            )\n",
    "        ]\n",
    "    )\n",
    "    search_results = qdrant_client.search(\n",
    "        collection_name=collection_name,\n",
    "        query_vector=query_vector,\n",
    "        limit=k,\n",
    "        query_filter=question_filter  # Filter only questions\n",
    "    )\n",
    "\n",
    "    # Extract answers from matched questions\n",
    "    answers = [result.payload[\"answer\"] for result in search_results]\n",
    "\n",
    "    # If high-confidence matches found, rerank and return them\n",
    "    # If no strong match, search for similar ANSWERS\n",
    "    if search_results and search_results[0].score < threshold:\n",
    "    \n",
    "        # Step 2: If no strong match, search for similar ANSWERS directly\n",
    "        answer_filter = Filter(\n",
    "            must=[\n",
    "                FieldCondition(\n",
    "                    key=\"type\",\n",
    "                    match=MatchValue(value=\"answer\")\n",
    "                )\n",
    "            ]\n",
    "        )\n",
    "        \n",
    "        fallback_results = qdrant_client.search(\n",
    "            collection_name=collection_name,\n",
    "            query_vector=query_vector,\n",
    "            limit=k,\n",
    "            query_filter=answer_filter  # Now filter only answers\n",
    "        )\n",
    "\n",
    "        # Extract answers from matched answers\n",
    "        answers = [result.payload[\"answer\"] for result in fallback_results]\n",
    "\n",
    "    # rerank\n",
    "    bm25 = BM25Okapi(answers)\n",
    "    bm25_scores = bm25.get_scores(query.split())\n",
    "    ranked_results = sorted(\n",
    "        zip(search_results, bm25_scores),\n",
    "        key=lambda x: x[1], reverse=True\n",
    "    )\n",
    "    \n",
    "    return ranked_results"
   ]
  },
  {
   "cell_type": "code",
   "execution_count": 169,
   "metadata": {},
   "outputs": [
    {
     "data": {
      "text/plain": [
       "[(ScoredPoint(id=111, version=11, score=0.8957808, payload={'question': 'มันปวดท้องขึ้นเรื่อยๆเลยค่ะทำไงดีคะ', 'answer': 'อาการถ่ายเหลวปนมูก ร่วมกับปวดบิดท้อง อาเจียน เข้าได้กับภาวะลำไส้อักเสบติดเชื้อครับ การรักษาหลักจะเป็นการทานยาฆ่าเชื้อ เช่น Ciprofloxacin, Cefixime นาน 5 วัน ร่วมกับการทานยาตามอาการ เช่น ยาแก้ปวดบิดท้อง Hyoscine, ยาแก้อาเจียน Domperidone เป็นต้น อาการจะดีขึ้นใน 2-3 วัน ครับ', 'type': 'question'}, vector=None, shard_key=None, order_value=None),\n",
       "  0.0),\n",
       " (ScoredPoint(id=470, version=47, score=0.8473103, payload={'question': 'คือผมคลื่นไส้ทุกวันและปวดท้องบริเวณสะดือทรมานมากควรทำำงดีครับหมอ', 'answer': 'อาการปวดท้องบริเวณสะดือ ร่วมกับคลื่นไส้อาเจียน ส่วนใหญ่เกิดจากอาหารเป็นพิษ หรือลำไส้อักเสบ สามารถหายได้เองใน 2-3 วัน การรักษาหลักจะเป็นการทานยาตามอาการ เช่น ยาแก้คลื่นไส้ (Domperidone, Metoclopramide) ยาแก้ปวดบิดท้อง (Hyoscine) และทานผงเกลือแร่ ORS จิบบ่อยๆทั้งวัน ก็จะช่วยให้อาการหายเร็วขึ้นได้ครับ แต่ถ้าอาการเป็นเรื้อรังนานกว่า 5-7 วัน ควรไปตรวจเพิ่มเติมที่โรงพยาบาล อาจมีสาเหตุอื่นที่ทำให้ปวดท้องได้ เช่น ภาวะลำไส้แปรปรวน หรือนิ่วในทางเดินอาหาร เป็นต้นครับ', 'type': 'question'}, vector=None, shard_key=None, order_value=None),\n",
       "  0.0),\n",
       " (ScoredPoint(id=129, version=12, score=0.82612324, payload={'question': 'ปวดท้องมา1สัปดาห์แล้ว อาการนี้สามารถหายเองหรือกินยาอะไรได้ไหมค่ะ', 'answer': 'อาการปวดท้องมีหลายแบบ เป็นได้หลายโรคครับ ลองเข้าร้านยาเพื่อปรึกษาคุณเภสัข เพื่อทานยาเบื้องต้นก่อนได้ แต่ถ้าอาการเป็นรุนแรง, เป็นมากขึ้นเรื่อย หรือทานยาเบื้องต้นแล้วไม่ดีขึ้น ควรไปรพ.เพื่อตรวจเพิ่มเติมครับ', 'type': 'question'}, vector=None, shard_key=None, order_value=None),\n",
       "  0.0)]"
      ]
     },
     "execution_count": 169,
     "metadata": {},
     "output_type": "execute_result"
    }
   ],
   "source": [
    "# Test the function\n",
    "query = \"ปวดท้อง ทำยังไงดีคะ\"\n",
    "context = retrieve_context(query)\n",
    "context"
   ]
  },
  {
   "cell_type": "markdown",
   "metadata": {},
   "source": [
    "### Prompt Engineering\n",
    "\n",
    "credit : [สร้าง AI ตอบคำถามด้วย LLaMA3.1, Langchain, RAG และ FAISS](https://blog.appsynth.net/%E0%B8%AA%E0%B8%A3%E0%B9%89%E0%B8%B2%E0%B8%87-ai-%E0%B8%95%E0%B8%AD%E0%B8%9A%E0%B8%84%E0%B8%B3%E0%B8%96%E0%B8%B2%E0%B8%A1%E0%B8%94%E0%B9%89%E0%B8%A7%E0%B8%A2-llama3-1-langchain-rag-%E0%B9%81%E0%B8%A5%E0%B8%B0-faiss-cf8e57ac5a5d) by [nutron](https://medium.com/@nutron)\n",
    "\n",
    "ในส่วนนี้ จะรวม query ที่ผู้ใช้งานได้ป้อนเข้ามาใหม่กับการระบุบทบาทให้กับ chatbot และบริบท เพื่อการตอบคำถามได้ดียิ่งขึ้น"
   ]
  },
  {
   "cell_type": "code",
   "execution_count": 154,
   "metadata": {},
   "outputs": [],
   "source": [
    "from langchain_core.runnables import Runnable\n",
    "class ChatGPTPromptRunnable(Runnable):\n",
    "    def __init__(self, system=\"\"):\n",
    "        super().__init__()\n",
    "        self.system = system\n",
    "\n",
    "    def invoke(self, inputs: dict, config=None) -> str:\n",
    "        question = inputs[\"question\"]\n",
    "        context = inputs[\"context\"]\n",
    "        # Create the system prompt if provided\n",
    "        system_prompt = \"\"\n",
    "        if self.system != \"\":\n",
    "            system_prompt = (\n",
    "                f\"<|start_header_id|>system<|end_header_id|>\\n\\n{self.system}\\n\\n\"\n",
    "                f\"context: {context}\\n\\n\"\n",
    "                f\"<|eot_id|>\\n\\n\"\n",
    "            )\n",
    "            prompt = (\n",
    "                f\"<|begin_of_text|>{system_prompt}\"\n",
    "                f\"<|start_header_id|>user<|end_header_id|>\\n\\n\"\n",
    "                f\"{question}\\n\\n\"\n",
    "                f\"<|eot_id|>\\n\\n\"\n",
    "                f\"<|start_header_id|>assistant<|end_header_id|>\\n\\n\" # header - assistant\n",
    "            )\n",
    "\n",
    "        # Return the formatted prompt\n",
    "        return prompt"
   ]
  },
  {
   "cell_type": "code",
   "execution_count": 241,
   "metadata": {},
   "outputs": [
    {
     "name": "stdout",
     "output_type": "stream",
     "text": [
      "<|begin_of_text|><|start_header_id|>system<|end_header_id|>\n",
      "\n",
      "คุณคือผู้ช่วยตอบคำถามสุขภาพ ฉันจะให้ข้อมูลเกี่ยวกับปัญหาสุขภาพที่เคยถูกถามและตอบโดยคุณหมอ ในกระทู้ของ Agnos คุณสามารถใช้เป็นแหล่งอ้างอิงได้\n",
      "\n",
      "context: ตอบคำถามสุขภาพ\n",
      "\n",
      "<|eot_id|>\n",
      "\n",
      "<|start_header_id|>user<|end_header_id|>\n",
      "\n",
      "ปวดท้องน้อย เป็นๆหายๆ ร่วมกับประจำเดือนมาช้าค่ะ เป็นโรคอะไรได้บ้างคะ\n",
      "\n",
      "<|eot_id|>\n",
      "\n",
      "<|start_header_id|>assistant<|end_header_id|>\n",
      "\n",
      "\n"
     ]
    }
   ],
   "source": [
    "# Example usage\n",
    "gpt_prompt = ChatGPTPromptRunnable(system=\"คุณคือผู้ช่วยตอบคำถามสุขภาพ ฉันจะให้ข้อมูลเกี่ยวกับปัญหาสุขภาพที่เคยถูกถามและตอบโดยคุณหมอ ในกระทู้ของ Agnos คุณสามารถใช้เป็นแหล่งอ้างอิงได้\")\n",
    "print(gpt_prompt.invoke({\"context\": \"ตอบคำถามสุขภาพ\", \"question\": \"ปวดท้องน้อย เป็นๆหายๆ ร่วมกับประจำเดือนมาช้าค่ะ เป็นโรคอะไรได้บ้างคะ\"}))"
   ]
  },
  {
   "cell_type": "markdown",
   "metadata": {},
   "source": [
    "## 4. RAG + Text generation model\n",
    "\n",
    "ในส่วนนี้จะทำการต่อ RAG เข้ากับ LLM text generation model เพื่อให้ chatbot สามารถตอบโต้ได้โดยอาศัยความรู้ที่เราป้อนให้ โดยที่จะใช้ model gpt-4o-mini ของ OpenAI เป็น text generation model และยังมีการทำ Chain conversation โดยใช้ Langchain เพื่อให้ chatbot ไม่ลืมบริบทก่อนหน้า "
   ]
  },
  {
   "cell_type": "code",
   "execution_count": 236,
   "metadata": {},
   "outputs": [
    {
     "name": "stdout",
     "output_type": "stream",
     "text": [
      "อาการปวดท้องน้อยเป็นๆ หายๆ ร่วมกับประจำเดือนมาช้า อาจมีสาเหตุมาจากหลายปัจจัย รวมถึงความผิดปกติของมดลูก เช่น เนื้องอกมดลูกหรือความไม่สมดุลของฮอร์โมนเพศ แนะนำให้ไปพบสูตินรีแพทย์เพื่อตรวจสอบและวินิจฉัยอย่างละเอียด จะต้องมีการตรวจภายในหรืออัลตราซาวด์เพื่อหาสาเหตุที่แน่นอนค่ะ\n"
     ]
    }
   ],
   "source": [
    "from langchain.schema import BaseRetriever\n",
    "from langchain_openai import ChatOpenAI\n",
    "from langchain.chains.conversational_retrieval.base import ConversationalRetrievalChain\n",
    "from langchain_core.documents import Document\n",
    "from pydantic import Field\n",
    "from typing import List\n",
    "\n",
    "# Initialize LLM\n",
    "llm = ChatOpenAI(model_name=\"gpt-4o-mini\", openai_api_key=OPENAI_API_KEY)\n",
    "\n",
    "class CustomRetriever(BaseRetriever):\n",
    "    \"\"\"Custom retriever that integrates `retrieve_context` into LangChain while maintaining query history.\"\"\"\n",
    "\n",
    "    query_context: str = Field(default=\"\")  # Define it as a Pydantic field\n",
    "\n",
    "    def get_relevant_documents(self, query: str) -> List[Document]:\n",
    "        # Append new query to maintain context\n",
    "        self.query_context += \" \" + query  \n",
    "        \n",
    "        ranked_results = retrieve_context(self.query_context, k=3, threshold=0.75)\n",
    "        \n",
    "        return [\n",
    "            Document(page_content=result[0].payload[\"answer\"], metadata={\"score\": result[0].score})\n",
    "            for result in ranked_results\n",
    "        ]\n",
    "\n",
    "    async def aget_relevant_documents(self, query: str) -> List[Document]:\n",
    "        return self.get_relevant_documents(query)  # Sync fallback for async\n",
    "\n",
    "# Use CustomRetriever\n",
    "custom_retriever = CustomRetriever(query_context=\"\")\n",
    "\n",
    "# Use the custom retriever in the chain\n",
    "chain = ConversationalRetrievalChain.from_llm(\n",
    "    llm=llm,\n",
    "    retriever=custom_retriever,\n",
    "    return_source_documents=True\n",
    ")\n",
    "\n",
    "chat_history = []\n",
    "\n",
    "query = \"ปวดท้องน้อย เป็นๆหายๆ ร่วมกับประจำเดือนมาช้าค่ะ เป็นโรคอะไรได้บ้างคะ\"\n",
    "response = chain.invoke({\"question\": query, \"chat_history\": chat_history})\n",
    "\n",
    "print(response['answer'])\n"
   ]
  },
  {
   "cell_type": "markdown",
   "metadata": {},
   "source": [
    "เรียกใช้ครั้งที่ 2 จะเห็นว่า chatbot ยังไม่ลืมบริบทที่คุยกันก่อนหน้า"
   ]
  },
  {
   "cell_type": "code",
   "execution_count": 237,
   "metadata": {},
   "outputs": [
    {
     "name": "stdout",
     "output_type": "stream",
     "text": [
      "เกี่ยวกับการดูแลตนเองในกรณีที่มีอาการเกี่ยวกับประจำเดือนหรืออาการปวดท้อง หากอาการไม่รุนแรง สามารถทำตามแนวทางดังนี้:\n",
      "\n",
      "1. รักษาความสะอาด: ควรดูแลความสะอาดในช่วงมีประจำเดือน เพื่อป้องกันการติดเชื้อ\n",
      "2. ออกกำลังกาย: การเคลื่อนไหวร่างกายเบา ๆ อาจช่วยลดอาการปวดท้องได้\n",
      "3. ดูแลโภชนาการ: ทานอาหารที่มีประโยชน์ ผักผลไม้ และดื่มน้ำให้เพียงพอ\n",
      "4. ใช้ยาเบื้องต้น: หากมีอาการปวด สามารถพิจารณาทานยาแก้ปวดที่ไม่ต้องสั่งโดยแพทย์ ตามที่เภสัชกรแนะนำ\n",
      "5. หลีกเลี่ยงความเครียด: พยายามหากิจกรรมที่ช่วยให้ผ่อนคลาย เช่น การทำสมาธิหรือโยคะ\n",
      "\n",
      "แต่ถ้าอาการไม่ดีขึ้น หรือมีอาการรุนแรง ควรไปพบแพทย์เพื่อตรวจเพิ่มเติมครับ\n"
     ]
    }
   ],
   "source": [
    "chat_history = [(query, response[\"answer\"])]\n",
    "\n",
    "query = \"มีแนวทางการดูแลตนเองยังไงบ้างคะ\"\n",
    "result = chain({\"question\": query, \"chat_history\": chat_history})\n",
    "\n",
    "print(result['answer'])"
   ]
  },
  {
   "cell_type": "markdown",
   "metadata": {},
   "source": [
    "พร้อมสำหรับการทำ UI ขึ้น huggingface🤗 แล้วครับ"
   ]
  }
 ],
 "metadata": {
  "kernelspec": {
   "display_name": "agnos_py311",
   "language": "python",
   "name": "python3"
  },
  "language_info": {
   "codemirror_mode": {
    "name": "ipython",
    "version": 3
   },
   "file_extension": ".py",
   "mimetype": "text/x-python",
   "name": "python",
   "nbconvert_exporter": "python",
   "pygments_lexer": "ipython3",
   "version": "3.11.11"
  }
 },
 "nbformat": 4,
 "nbformat_minor": 2
}
